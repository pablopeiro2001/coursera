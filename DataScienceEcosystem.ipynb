{
 "cells": [
  {
   "cell_type": "markdown",
   "id": "09b0d955-99c7-4dc1-b57f-32f25747fb74",
   "metadata": {},
   "source": [
    "# Data Science Tools and Ecosystem"
   ]
  },
  {
   "cell_type": "markdown",
   "id": "5e986fd9-bdd6-496e-b55a-76455b79e915",
   "metadata": {},
   "source": [
    "In this notebook, Data Science Tools and Ecosystem are summarized."
   ]
  },
  {
   "cell_type": "markdown",
   "id": "92d65562-e954-46c9-bee8-535aa57a5bc4",
   "metadata": {},
   "source": [
    "**Objectives:**\n",
    "* List popular languages for Data Science\n",
    "* List popular libraries for Data Science\n",
    "* List popular tools for Data Science\n",
    "* Work with ordered lists, unordered lists and tables\n",
    "* Try some arithmetic expressions in code lines"
   ]
  },
  {
   "cell_type": "markdown",
   "id": "f369657c-9d35-4d63-a9aa-2d26304207b4",
   "metadata": {},
   "source": [
    "Some of the popular languages that Data Scientists use are:\n",
    "1. Python\n",
    "2. R\n",
    "3. Julia"
   ]
  },
  {
   "cell_type": "markdown",
   "id": "7c0d4131-e639-4b5d-ac06-73ef93da7ef8",
   "metadata": {},
   "source": [
    "Some of the commonly used libraries used by Data Scientists include:\n",
    "1. pandas\n",
    "2. NumPy\n",
    "3. ggplot2"
   ]
  },
  {
   "cell_type": "markdown",
   "id": "1373a945-e0a7-4913-ab68-e334aabd784a",
   "metadata": {},
   "source": [
    "| Data Science Tools                 |\n",
    "| ------------------------------------------- | \n",
    "| Jupyter                                |\n",
    "| Git                                |\n",
    "| VS code                                |"
   ]
  },
  {
   "cell_type": "markdown",
   "id": "b708a7d7-7c36-4f62-a5f2-cb6b63ed880d",
   "metadata": {},
   "source": [
    "### Below are a few examples of evaluating arithmetic expressions in Python"
   ]
  },
  {
   "cell_type": "code",
   "execution_count": 2,
   "id": "c0f59c09-1d54-4a18-999b-e7a84f9bc428",
   "metadata": {},
   "outputs": [
    {
     "data": {
      "text/plain": [
       "17"
      ]
     },
     "execution_count": 2,
     "metadata": {},
     "output_type": "execute_result"
    }
   ],
   "source": [
    "(3*4)+5    # This a simple arithmetic expression to mutiply then add integers"
   ]
  },
  {
   "cell_type": "code",
   "execution_count": 3,
   "id": "89bd52f2-9026-4e66-bafd-e731b89f37da",
   "metadata": {},
   "outputs": [
    {
     "data": {
      "text/plain": [
       "3.3333333333333335"
      ]
     },
     "execution_count": 3,
     "metadata": {},
     "output_type": "execute_result"
    }
   ],
   "source": [
    "200/60   # This will convert 200 minutes to hours by diving by 60"
   ]
  },
  {
   "cell_type": "markdown",
   "id": "3f724c8f-792c-4ef8-b235-b9b9307b70de",
   "metadata": {},
   "source": [
    "## Author\n",
    "Pablo Peiro Corbacho"
   ]
  },
  {
   "cell_type": "code",
   "execution_count": null,
   "id": "0393685d-ee5b-48eb-9a0d-5109004689b9",
   "metadata": {},
   "outputs": [],
   "source": []
  }
 ],
 "metadata": {
  "kernelspec": {
   "display_name": "Python [conda env:base] *",
   "language": "python",
   "name": "conda-base-py"
  },
  "language_info": {
   "codemirror_mode": {
    "name": "ipython",
    "version": 3
   },
   "file_extension": ".py",
   "mimetype": "text/x-python",
   "name": "python",
   "nbconvert_exporter": "python",
   "pygments_lexer": "ipython3",
   "version": "3.13.5"
  }
 },
 "nbformat": 4,
 "nbformat_minor": 5
}
